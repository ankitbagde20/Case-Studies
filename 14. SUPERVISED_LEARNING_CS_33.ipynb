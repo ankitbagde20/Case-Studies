{
 "cells": [
  {
   "cell_type": "markdown",
   "metadata": {},
   "source": [
    "# 4. Supervised_Learning_Case_Study - 33"
   ]
  },
  {
   "cell_type": "markdown",
   "metadata": {},
   "source": [
    "## Case Study\n",
    "\n",
    "### Domain – Media\n",
    "\n",
    "### Focus – Optimize Selection Process\n",
    "\n",
    "\n",
    "### Business Challenge / Requirement\n",
    "\n",
    "Motion Studios is the largest Radio production house in Europe. Their total revenue $ 1B+. Company has launched a new reality  show – \"The Star RJ\". The show is about finding a new Radio Jockey who will be the star presenter on upcoming shows.\n",
    "\n",
    "In first round participants have to upload their voice clip online and the clip will be evaluated by experts for selection into the next round. There is a separate team in the first round for evaluation of male and female voice.\n",
    "\n",
    "Response to the show is unprecedented and company is flooded with voice clips.\n",
    "\n",
    "You as a ML expert have to classify the voice as either male/female so that first level of filtration is quicker.\n",
    "\n",
    "Key issues\n",
    "Voice sample are across accents\n",
    "\n",
    "### Data volume\n",
    "\n",
    "- Approx 3000 records – file **voice-classification.csv** Fields in Data\n",
    "\n",
    "- meanfreq: mean frequency (in kHz)\n",
    "\n",
    "- sd: standard deviation of frequency\n",
    "\n",
    "- median: median frequency (in kHz)\n",
    "\n",
    "- Q25: first quantile (in kHz)\n",
    "\n",
    "- Q75: third quantile (in kHz)\n",
    "\n",
    "- IQR: interquantile range (in kHz)\n",
    "\n",
    "- skew: skewness (see note in specprop description)\n",
    "\n",
    "- kurt: kurtosis (see note in specprop description)\n",
    "\n",
    "- sp.ent: spectral entropy\n",
    "\n",
    "- sfm: spectral flatness\n",
    "\n",
    "- mode: mode frequency\n",
    "\n",
    "- centroid: frequency centroid (see specprop)\n",
    "\n",
    "- peakf: peak frequency (frequency with highest energy)\n",
    "\n",
    "- meanfun: average of fundamental frequency measured across acoustic signal\n",
    "\n",
    "- minfun: minimum fundamental frequency measured across acoustic signal\n",
    "\n",
    "- maxfun: maximum fundamental frequency measured across acoustic signal\n",
    "\n",
    "- meandom: average of dominant frequency measured across acoustic signal\n",
    "\n",
    "- mindom: minimum of dominant frequency measured across acoustic signal\n",
    "\n",
    "- maxdom: maximum of dominant frequency measured across acoustic signal\n",
    "\n",
    "- dfrange: range of dominant frequency measured across acoustic signal\n",
    "\n",
    "- modindx: modulation index. Calculated as the accumulated absolute difference between adjacent measurements of fundamental frequencies divided by the frequency range\n",
    "\n",
    "- label: male or female\n",
    "\n",
    "\n",
    "\n",
    "\n",
    "### Additional information\n",
    "- NA\n",
    "\n",
    "\n",
    "\n",
    "### Business benefits\n",
    "\n",
    "Since \"The Star RJ\" is a reality show, time to select candidates is very short. The whole success of the show and hence the profits depends upon quick and smooth execution\n",
    "\n",
    "##### Note: Use SVM , Naïve Bayce  and GridSearchCV to classify the data \n"
   ]
  },
  {
   "cell_type": "markdown",
   "metadata": {},
   "source": [
    "### Import Libraries"
   ]
  },
  {
   "cell_type": "code",
   "execution_count": 1,
   "metadata": {},
   "outputs": [],
   "source": [
    "import os\n",
    "import numpy as np\n",
    "import pandas as pd\n",
    "import seaborn as sns\n",
    "import matplotlib.pyplot as plt"
   ]
  },
  {
   "cell_type": "markdown",
   "metadata": {},
   "source": [
    "### Load Dataset"
   ]
  },
  {
   "cell_type": "code",
   "execution_count": 2,
   "metadata": {},
   "outputs": [
    {
     "data": {
      "text/html": [
       "<div>\n",
       "<style scoped>\n",
       "    .dataframe tbody tr th:only-of-type {\n",
       "        vertical-align: middle;\n",
       "    }\n",
       "\n",
       "    .dataframe tbody tr th {\n",
       "        vertical-align: top;\n",
       "    }\n",
       "\n",
       "    .dataframe thead th {\n",
       "        text-align: right;\n",
       "    }\n",
       "</style>\n",
       "<table border=\"1\" class=\"dataframe\">\n",
       "  <thead>\n",
       "    <tr style=\"text-align: right;\">\n",
       "      <th></th>\n",
       "      <th>meanfreq</th>\n",
       "      <th>sd</th>\n",
       "      <th>median</th>\n",
       "      <th>Q25</th>\n",
       "      <th>Q75</th>\n",
       "      <th>IQR</th>\n",
       "      <th>skew</th>\n",
       "      <th>kurt</th>\n",
       "      <th>sp.ent</th>\n",
       "      <th>sfm</th>\n",
       "      <th>...</th>\n",
       "      <th>centroid</th>\n",
       "      <th>meanfun</th>\n",
       "      <th>minfun</th>\n",
       "      <th>maxfun</th>\n",
       "      <th>meandom</th>\n",
       "      <th>mindom</th>\n",
       "      <th>maxdom</th>\n",
       "      <th>dfrange</th>\n",
       "      <th>modindx</th>\n",
       "      <th>label</th>\n",
       "    </tr>\n",
       "  </thead>\n",
       "  <tbody>\n",
       "    <tr>\n",
       "      <th>0</th>\n",
       "      <td>0.059781</td>\n",
       "      <td>0.064241</td>\n",
       "      <td>0.032027</td>\n",
       "      <td>0.015071</td>\n",
       "      <td>0.090193</td>\n",
       "      <td>0.075122</td>\n",
       "      <td>12.863462</td>\n",
       "      <td>274.402906</td>\n",
       "      <td>0.893369</td>\n",
       "      <td>0.491918</td>\n",
       "      <td>...</td>\n",
       "      <td>0.059781</td>\n",
       "      <td>0.084279</td>\n",
       "      <td>0.015702</td>\n",
       "      <td>0.275862</td>\n",
       "      <td>0.007812</td>\n",
       "      <td>0.007812</td>\n",
       "      <td>0.007812</td>\n",
       "      <td>0.000000</td>\n",
       "      <td>0.000000</td>\n",
       "      <td>male</td>\n",
       "    </tr>\n",
       "    <tr>\n",
       "      <th>1</th>\n",
       "      <td>0.066009</td>\n",
       "      <td>0.067310</td>\n",
       "      <td>0.040229</td>\n",
       "      <td>0.019414</td>\n",
       "      <td>0.092666</td>\n",
       "      <td>0.073252</td>\n",
       "      <td>22.423285</td>\n",
       "      <td>634.613855</td>\n",
       "      <td>0.892193</td>\n",
       "      <td>0.513724</td>\n",
       "      <td>...</td>\n",
       "      <td>0.066009</td>\n",
       "      <td>0.107937</td>\n",
       "      <td>0.015826</td>\n",
       "      <td>0.250000</td>\n",
       "      <td>0.009014</td>\n",
       "      <td>0.007812</td>\n",
       "      <td>0.054688</td>\n",
       "      <td>0.046875</td>\n",
       "      <td>0.052632</td>\n",
       "      <td>male</td>\n",
       "    </tr>\n",
       "    <tr>\n",
       "      <th>2</th>\n",
       "      <td>0.077316</td>\n",
       "      <td>0.083829</td>\n",
       "      <td>0.036718</td>\n",
       "      <td>0.008701</td>\n",
       "      <td>0.131908</td>\n",
       "      <td>0.123207</td>\n",
       "      <td>30.757155</td>\n",
       "      <td>1024.927705</td>\n",
       "      <td>0.846389</td>\n",
       "      <td>0.478905</td>\n",
       "      <td>...</td>\n",
       "      <td>0.077316</td>\n",
       "      <td>0.098706</td>\n",
       "      <td>0.015656</td>\n",
       "      <td>0.271186</td>\n",
       "      <td>0.007990</td>\n",
       "      <td>0.007812</td>\n",
       "      <td>0.015625</td>\n",
       "      <td>0.007812</td>\n",
       "      <td>0.046512</td>\n",
       "      <td>male</td>\n",
       "    </tr>\n",
       "    <tr>\n",
       "      <th>3</th>\n",
       "      <td>0.151228</td>\n",
       "      <td>0.072111</td>\n",
       "      <td>0.158011</td>\n",
       "      <td>0.096582</td>\n",
       "      <td>0.207955</td>\n",
       "      <td>0.111374</td>\n",
       "      <td>1.232831</td>\n",
       "      <td>4.177296</td>\n",
       "      <td>0.963322</td>\n",
       "      <td>0.727232</td>\n",
       "      <td>...</td>\n",
       "      <td>0.151228</td>\n",
       "      <td>0.088965</td>\n",
       "      <td>0.017798</td>\n",
       "      <td>0.250000</td>\n",
       "      <td>0.201497</td>\n",
       "      <td>0.007812</td>\n",
       "      <td>0.562500</td>\n",
       "      <td>0.554688</td>\n",
       "      <td>0.247119</td>\n",
       "      <td>male</td>\n",
       "    </tr>\n",
       "    <tr>\n",
       "      <th>4</th>\n",
       "      <td>0.135120</td>\n",
       "      <td>0.079146</td>\n",
       "      <td>0.124656</td>\n",
       "      <td>0.078720</td>\n",
       "      <td>0.206045</td>\n",
       "      <td>0.127325</td>\n",
       "      <td>1.101174</td>\n",
       "      <td>4.333713</td>\n",
       "      <td>0.971955</td>\n",
       "      <td>0.783568</td>\n",
       "      <td>...</td>\n",
       "      <td>0.135120</td>\n",
       "      <td>0.106398</td>\n",
       "      <td>0.016931</td>\n",
       "      <td>0.266667</td>\n",
       "      <td>0.712812</td>\n",
       "      <td>0.007812</td>\n",
       "      <td>5.484375</td>\n",
       "      <td>5.476562</td>\n",
       "      <td>0.208274</td>\n",
       "      <td>male</td>\n",
       "    </tr>\n",
       "  </tbody>\n",
       "</table>\n",
       "<p>5 rows × 21 columns</p>\n",
       "</div>"
      ],
      "text/plain": [
       "   meanfreq        sd    median       Q25       Q75       IQR       skew  \\\n",
       "0  0.059781  0.064241  0.032027  0.015071  0.090193  0.075122  12.863462   \n",
       "1  0.066009  0.067310  0.040229  0.019414  0.092666  0.073252  22.423285   \n",
       "2  0.077316  0.083829  0.036718  0.008701  0.131908  0.123207  30.757155   \n",
       "3  0.151228  0.072111  0.158011  0.096582  0.207955  0.111374   1.232831   \n",
       "4  0.135120  0.079146  0.124656  0.078720  0.206045  0.127325   1.101174   \n",
       "\n",
       "          kurt    sp.ent       sfm  ...  centroid   meanfun    minfun  \\\n",
       "0   274.402906  0.893369  0.491918  ...  0.059781  0.084279  0.015702   \n",
       "1   634.613855  0.892193  0.513724  ...  0.066009  0.107937  0.015826   \n",
       "2  1024.927705  0.846389  0.478905  ...  0.077316  0.098706  0.015656   \n",
       "3     4.177296  0.963322  0.727232  ...  0.151228  0.088965  0.017798   \n",
       "4     4.333713  0.971955  0.783568  ...  0.135120  0.106398  0.016931   \n",
       "\n",
       "     maxfun   meandom    mindom    maxdom   dfrange   modindx  label  \n",
       "0  0.275862  0.007812  0.007812  0.007812  0.000000  0.000000   male  \n",
       "1  0.250000  0.009014  0.007812  0.054688  0.046875  0.052632   male  \n",
       "2  0.271186  0.007990  0.007812  0.015625  0.007812  0.046512   male  \n",
       "3  0.250000  0.201497  0.007812  0.562500  0.554688  0.247119   male  \n",
       "4  0.266667  0.712812  0.007812  5.484375  5.476562  0.208274   male  \n",
       "\n",
       "[5 rows x 21 columns]"
      ]
     },
     "execution_count": 2,
     "metadata": {},
     "output_type": "execute_result"
    }
   ],
   "source": [
    "os.chdir('C:\\\\Users\\\\ankit\\\\OneDrive\\\\Documents\\\\Desktop\\\\DATA SCIENCE\\\\Top Mentor Lecture\\\\24_Day_31_7_21\\\\Case Studies with Answer\\\\CS 33 Ans -Supervised Learnig-4')\n",
    "df = pd.read_csv('voice-classification.csv')\n",
    "df.head()"
   ]
  },
  {
   "cell_type": "markdown",
   "metadata": {},
   "source": [
    "### Data Check"
   ]
  },
  {
   "cell_type": "code",
   "execution_count": 4,
   "metadata": {},
   "outputs": [
    {
     "data": {
      "text/plain": [
       "(3168, 21)"
      ]
     },
     "execution_count": 4,
     "metadata": {},
     "output_type": "execute_result"
    }
   ],
   "source": [
    "df.shape"
   ]
  },
  {
   "cell_type": "code",
   "execution_count": 6,
   "metadata": {},
   "outputs": [
    {
     "name": "stdout",
     "output_type": "stream",
     "text": [
      "<class 'pandas.core.frame.DataFrame'>\n",
      "RangeIndex: 3168 entries, 0 to 3167\n",
      "Data columns (total 21 columns):\n",
      " #   Column    Non-Null Count  Dtype  \n",
      "---  ------    --------------  -----  \n",
      " 0   meanfreq  3168 non-null   float64\n",
      " 1   sd        3168 non-null   float64\n",
      " 2   median    3168 non-null   float64\n",
      " 3   Q25       3168 non-null   float64\n",
      " 4   Q75       3168 non-null   float64\n",
      " 5   IQR       3168 non-null   float64\n",
      " 6   skew      3168 non-null   float64\n",
      " 7   kurt      3168 non-null   float64\n",
      " 8   sp.ent    3168 non-null   float64\n",
      " 9   sfm       3168 non-null   float64\n",
      " 10  mode      3168 non-null   float64\n",
      " 11  centroid  3168 non-null   float64\n",
      " 12  meanfun   3168 non-null   float64\n",
      " 13  minfun    3168 non-null   float64\n",
      " 14  maxfun    3168 non-null   float64\n",
      " 15  meandom   3168 non-null   float64\n",
      " 16  mindom    3168 non-null   float64\n",
      " 17  maxdom    3168 non-null   float64\n",
      " 18  dfrange   3168 non-null   float64\n",
      " 19  modindx   3168 non-null   float64\n",
      " 20  label     3168 non-null   object \n",
      "dtypes: float64(20), object(1)\n",
      "memory usage: 519.9+ KB\n"
     ]
    }
   ],
   "source": [
    "df.info()"
   ]
  },
  {
   "cell_type": "code",
   "execution_count": 13,
   "metadata": {},
   "outputs": [
    {
     "data": {
      "text/html": [
       "<div>\n",
       "<style scoped>\n",
       "    .dataframe tbody tr th:only-of-type {\n",
       "        vertical-align: middle;\n",
       "    }\n",
       "\n",
       "    .dataframe tbody tr th {\n",
       "        vertical-align: top;\n",
       "    }\n",
       "\n",
       "    .dataframe thead th {\n",
       "        text-align: right;\n",
       "    }\n",
       "</style>\n",
       "<table border=\"1\" class=\"dataframe\">\n",
       "  <thead>\n",
       "    <tr style=\"text-align: right;\">\n",
       "      <th></th>\n",
       "      <th>count</th>\n",
       "      <th>mean</th>\n",
       "      <th>std</th>\n",
       "      <th>min</th>\n",
       "      <th>25%</th>\n",
       "      <th>50%</th>\n",
       "      <th>75%</th>\n",
       "      <th>max</th>\n",
       "    </tr>\n",
       "  </thead>\n",
       "  <tbody>\n",
       "    <tr>\n",
       "      <th>meanfreq</th>\n",
       "      <td>3168.0</td>\n",
       "      <td>0.180907</td>\n",
       "      <td>0.029918</td>\n",
       "      <td>0.039363</td>\n",
       "      <td>0.163662</td>\n",
       "      <td>0.184838</td>\n",
       "      <td>0.199146</td>\n",
       "      <td>0.251124</td>\n",
       "    </tr>\n",
       "    <tr>\n",
       "      <th>sd</th>\n",
       "      <td>3168.0</td>\n",
       "      <td>0.057126</td>\n",
       "      <td>0.016652</td>\n",
       "      <td>0.018363</td>\n",
       "      <td>0.041954</td>\n",
       "      <td>0.059155</td>\n",
       "      <td>0.067020</td>\n",
       "      <td>0.115273</td>\n",
       "    </tr>\n",
       "    <tr>\n",
       "      <th>median</th>\n",
       "      <td>3168.0</td>\n",
       "      <td>0.185621</td>\n",
       "      <td>0.036360</td>\n",
       "      <td>0.010975</td>\n",
       "      <td>0.169593</td>\n",
       "      <td>0.190032</td>\n",
       "      <td>0.210618</td>\n",
       "      <td>0.261224</td>\n",
       "    </tr>\n",
       "    <tr>\n",
       "      <th>Q25</th>\n",
       "      <td>3168.0</td>\n",
       "      <td>0.140456</td>\n",
       "      <td>0.048680</td>\n",
       "      <td>0.000229</td>\n",
       "      <td>0.111087</td>\n",
       "      <td>0.140286</td>\n",
       "      <td>0.175939</td>\n",
       "      <td>0.247347</td>\n",
       "    </tr>\n",
       "    <tr>\n",
       "      <th>Q75</th>\n",
       "      <td>3168.0</td>\n",
       "      <td>0.224765</td>\n",
       "      <td>0.023639</td>\n",
       "      <td>0.042946</td>\n",
       "      <td>0.208747</td>\n",
       "      <td>0.225684</td>\n",
       "      <td>0.243660</td>\n",
       "      <td>0.273469</td>\n",
       "    </tr>\n",
       "    <tr>\n",
       "      <th>IQR</th>\n",
       "      <td>3168.0</td>\n",
       "      <td>0.084309</td>\n",
       "      <td>0.042783</td>\n",
       "      <td>0.014558</td>\n",
       "      <td>0.042560</td>\n",
       "      <td>0.094280</td>\n",
       "      <td>0.114175</td>\n",
       "      <td>0.252225</td>\n",
       "    </tr>\n",
       "    <tr>\n",
       "      <th>skew</th>\n",
       "      <td>3168.0</td>\n",
       "      <td>3.140168</td>\n",
       "      <td>4.240529</td>\n",
       "      <td>0.141735</td>\n",
       "      <td>1.649569</td>\n",
       "      <td>2.197101</td>\n",
       "      <td>2.931694</td>\n",
       "      <td>34.725453</td>\n",
       "    </tr>\n",
       "    <tr>\n",
       "      <th>kurt</th>\n",
       "      <td>3168.0</td>\n",
       "      <td>36.568461</td>\n",
       "      <td>134.928661</td>\n",
       "      <td>2.068455</td>\n",
       "      <td>5.669547</td>\n",
       "      <td>8.318463</td>\n",
       "      <td>13.648905</td>\n",
       "      <td>1309.612887</td>\n",
       "    </tr>\n",
       "    <tr>\n",
       "      <th>sp.ent</th>\n",
       "      <td>3168.0</td>\n",
       "      <td>0.895127</td>\n",
       "      <td>0.044980</td>\n",
       "      <td>0.738651</td>\n",
       "      <td>0.861811</td>\n",
       "      <td>0.901767</td>\n",
       "      <td>0.928713</td>\n",
       "      <td>0.981997</td>\n",
       "    </tr>\n",
       "    <tr>\n",
       "      <th>sfm</th>\n",
       "      <td>3168.0</td>\n",
       "      <td>0.408216</td>\n",
       "      <td>0.177521</td>\n",
       "      <td>0.036876</td>\n",
       "      <td>0.258041</td>\n",
       "      <td>0.396335</td>\n",
       "      <td>0.533676</td>\n",
       "      <td>0.842936</td>\n",
       "    </tr>\n",
       "    <tr>\n",
       "      <th>mode</th>\n",
       "      <td>3168.0</td>\n",
       "      <td>0.165282</td>\n",
       "      <td>0.077203</td>\n",
       "      <td>0.000000</td>\n",
       "      <td>0.118016</td>\n",
       "      <td>0.186599</td>\n",
       "      <td>0.221104</td>\n",
       "      <td>0.280000</td>\n",
       "    </tr>\n",
       "    <tr>\n",
       "      <th>centroid</th>\n",
       "      <td>3168.0</td>\n",
       "      <td>0.180907</td>\n",
       "      <td>0.029918</td>\n",
       "      <td>0.039363</td>\n",
       "      <td>0.163662</td>\n",
       "      <td>0.184838</td>\n",
       "      <td>0.199146</td>\n",
       "      <td>0.251124</td>\n",
       "    </tr>\n",
       "    <tr>\n",
       "      <th>meanfun</th>\n",
       "      <td>3168.0</td>\n",
       "      <td>0.142807</td>\n",
       "      <td>0.032304</td>\n",
       "      <td>0.055565</td>\n",
       "      <td>0.116998</td>\n",
       "      <td>0.140519</td>\n",
       "      <td>0.169581</td>\n",
       "      <td>0.237636</td>\n",
       "    </tr>\n",
       "    <tr>\n",
       "      <th>minfun</th>\n",
       "      <td>3168.0</td>\n",
       "      <td>0.036802</td>\n",
       "      <td>0.019220</td>\n",
       "      <td>0.009775</td>\n",
       "      <td>0.018223</td>\n",
       "      <td>0.046110</td>\n",
       "      <td>0.047904</td>\n",
       "      <td>0.204082</td>\n",
       "    </tr>\n",
       "    <tr>\n",
       "      <th>maxfun</th>\n",
       "      <td>3168.0</td>\n",
       "      <td>0.258842</td>\n",
       "      <td>0.030077</td>\n",
       "      <td>0.103093</td>\n",
       "      <td>0.253968</td>\n",
       "      <td>0.271186</td>\n",
       "      <td>0.277457</td>\n",
       "      <td>0.279114</td>\n",
       "    </tr>\n",
       "    <tr>\n",
       "      <th>meandom</th>\n",
       "      <td>3168.0</td>\n",
       "      <td>0.829211</td>\n",
       "      <td>0.525205</td>\n",
       "      <td>0.007812</td>\n",
       "      <td>0.419828</td>\n",
       "      <td>0.765795</td>\n",
       "      <td>1.177166</td>\n",
       "      <td>2.957682</td>\n",
       "    </tr>\n",
       "    <tr>\n",
       "      <th>mindom</th>\n",
       "      <td>3168.0</td>\n",
       "      <td>0.052647</td>\n",
       "      <td>0.063299</td>\n",
       "      <td>0.004883</td>\n",
       "      <td>0.007812</td>\n",
       "      <td>0.023438</td>\n",
       "      <td>0.070312</td>\n",
       "      <td>0.458984</td>\n",
       "    </tr>\n",
       "    <tr>\n",
       "      <th>maxdom</th>\n",
       "      <td>3168.0</td>\n",
       "      <td>5.047277</td>\n",
       "      <td>3.521157</td>\n",
       "      <td>0.007812</td>\n",
       "      <td>2.070312</td>\n",
       "      <td>4.992188</td>\n",
       "      <td>7.007812</td>\n",
       "      <td>21.867188</td>\n",
       "    </tr>\n",
       "    <tr>\n",
       "      <th>dfrange</th>\n",
       "      <td>3168.0</td>\n",
       "      <td>4.994630</td>\n",
       "      <td>3.520039</td>\n",
       "      <td>0.000000</td>\n",
       "      <td>2.044922</td>\n",
       "      <td>4.945312</td>\n",
       "      <td>6.992188</td>\n",
       "      <td>21.843750</td>\n",
       "    </tr>\n",
       "    <tr>\n",
       "      <th>modindx</th>\n",
       "      <td>3168.0</td>\n",
       "      <td>0.173752</td>\n",
       "      <td>0.119454</td>\n",
       "      <td>0.000000</td>\n",
       "      <td>0.099766</td>\n",
       "      <td>0.139357</td>\n",
       "      <td>0.209183</td>\n",
       "      <td>0.932374</td>\n",
       "    </tr>\n",
       "  </tbody>\n",
       "</table>\n",
       "</div>"
      ],
      "text/plain": [
       "           count       mean         std       min       25%       50%  \\\n",
       "meanfreq  3168.0   0.180907    0.029918  0.039363  0.163662  0.184838   \n",
       "sd        3168.0   0.057126    0.016652  0.018363  0.041954  0.059155   \n",
       "median    3168.0   0.185621    0.036360  0.010975  0.169593  0.190032   \n",
       "Q25       3168.0   0.140456    0.048680  0.000229  0.111087  0.140286   \n",
       "Q75       3168.0   0.224765    0.023639  0.042946  0.208747  0.225684   \n",
       "IQR       3168.0   0.084309    0.042783  0.014558  0.042560  0.094280   \n",
       "skew      3168.0   3.140168    4.240529  0.141735  1.649569  2.197101   \n",
       "kurt      3168.0  36.568461  134.928661  2.068455  5.669547  8.318463   \n",
       "sp.ent    3168.0   0.895127    0.044980  0.738651  0.861811  0.901767   \n",
       "sfm       3168.0   0.408216    0.177521  0.036876  0.258041  0.396335   \n",
       "mode      3168.0   0.165282    0.077203  0.000000  0.118016  0.186599   \n",
       "centroid  3168.0   0.180907    0.029918  0.039363  0.163662  0.184838   \n",
       "meanfun   3168.0   0.142807    0.032304  0.055565  0.116998  0.140519   \n",
       "minfun    3168.0   0.036802    0.019220  0.009775  0.018223  0.046110   \n",
       "maxfun    3168.0   0.258842    0.030077  0.103093  0.253968  0.271186   \n",
       "meandom   3168.0   0.829211    0.525205  0.007812  0.419828  0.765795   \n",
       "mindom    3168.0   0.052647    0.063299  0.004883  0.007812  0.023438   \n",
       "maxdom    3168.0   5.047277    3.521157  0.007812  2.070312  4.992188   \n",
       "dfrange   3168.0   4.994630    3.520039  0.000000  2.044922  4.945312   \n",
       "modindx   3168.0   0.173752    0.119454  0.000000  0.099766  0.139357   \n",
       "\n",
       "                75%          max  \n",
       "meanfreq   0.199146     0.251124  \n",
       "sd         0.067020     0.115273  \n",
       "median     0.210618     0.261224  \n",
       "Q25        0.175939     0.247347  \n",
       "Q75        0.243660     0.273469  \n",
       "IQR        0.114175     0.252225  \n",
       "skew       2.931694    34.725453  \n",
       "kurt      13.648905  1309.612887  \n",
       "sp.ent     0.928713     0.981997  \n",
       "sfm        0.533676     0.842936  \n",
       "mode       0.221104     0.280000  \n",
       "centroid   0.199146     0.251124  \n",
       "meanfun    0.169581     0.237636  \n",
       "minfun     0.047904     0.204082  \n",
       "maxfun     0.277457     0.279114  \n",
       "meandom    1.177166     2.957682  \n",
       "mindom     0.070312     0.458984  \n",
       "maxdom     7.007812    21.867188  \n",
       "dfrange    6.992188    21.843750  \n",
       "modindx    0.209183     0.932374  "
      ]
     },
     "execution_count": 13,
     "metadata": {},
     "output_type": "execute_result"
    }
   ],
   "source": [
    "df.describe().T"
   ]
  },
  {
   "cell_type": "code",
   "execution_count": 14,
   "metadata": {},
   "outputs": [
    {
     "data": {
      "text/plain": [
       "meanfreq    0\n",
       "sd          0\n",
       "median      0\n",
       "Q25         0\n",
       "Q75         0\n",
       "IQR         0\n",
       "skew        0\n",
       "kurt        0\n",
       "sp.ent      0\n",
       "sfm         0\n",
       "mode        0\n",
       "centroid    0\n",
       "meanfun     0\n",
       "minfun      0\n",
       "maxfun      0\n",
       "meandom     0\n",
       "mindom      0\n",
       "maxdom      0\n",
       "dfrange     0\n",
       "modindx     0\n",
       "label       0\n",
       "dtype: int64"
      ]
     },
     "execution_count": 14,
     "metadata": {},
     "output_type": "execute_result"
    }
   ],
   "source": [
    "df.isnull().sum()"
   ]
  },
  {
   "cell_type": "code",
   "execution_count": 20,
   "metadata": {},
   "outputs": [
    {
     "name": "stdout",
     "output_type": "stream",
     "text": [
      "Shape of Data :\n",
      "Data set have 3168 Rows and 21 Columns\n"
     ]
    }
   ],
   "source": [
    "print('Shape of Data :')\n",
    "print('Data set have',df.shape[0], 'Rows and', df.shape[1], 'Columns')"
   ]
  },
  {
   "cell_type": "code",
   "execution_count": 22,
   "metadata": {},
   "outputs": [
    {
     "name": "stdout",
     "output_type": "stream",
     "text": [
      "Total number of labels : 3168\n"
     ]
    }
   ],
   "source": [
    "print('Total number of labels : {}'.format(df.shape[0]))"
   ]
  },
  {
   "cell_type": "code",
   "execution_count": 30,
   "metadata": {},
   "outputs": [
    {
     "name": "stdout",
     "output_type": "stream",
     "text": [
      "Total number of Male : 1584\n"
     ]
    }
   ],
   "source": [
    "print('Total number of Male : {}'.format(df[df.label == 'male'].shape[0]))"
   ]
  },
  {
   "cell_type": "code",
   "execution_count": 32,
   "metadata": {},
   "outputs": [
    {
     "name": "stdout",
     "output_type": "stream",
     "text": [
      "Total number of Female : 1584\n"
     ]
    }
   ],
   "source": [
    "print('Total number of Female : {}'.format(df[df['label'] == 'female'].shape[0]))"
   ]
  },
  {
   "cell_type": "markdown",
   "metadata": {},
   "source": [
    "### Creat X"
   ]
  },
  {
   "cell_type": "code",
   "execution_count": 40,
   "metadata": {},
   "outputs": [
    {
     "data": {
      "text/plain": [
       "array([[5.97809850e-02, 6.42412677e-02, 3.20269134e-02, 1.50714886e-02,\n",
       "        9.01934399e-02, 7.51219512e-02, 1.28634618e+01, 2.74402906e+02,\n",
       "        8.93369417e-01, 4.91917766e-01, 0.00000000e+00, 5.97809850e-02,\n",
       "        8.42791064e-02, 1.57016683e-02, 2.75862069e-01, 7.81250000e-03,\n",
       "        7.81250000e-03, 7.81250000e-03, 0.00000000e+00, 0.00000000e+00],\n",
       "       [6.60087404e-02, 6.73100288e-02, 4.02287348e-02, 1.94138670e-02,\n",
       "        9.26661901e-02, 7.32523231e-02, 2.24232854e+01, 6.34613855e+02,\n",
       "        8.92193242e-01, 5.13723843e-01, 0.00000000e+00, 6.60087404e-02,\n",
       "        1.07936554e-01, 1.58259149e-02, 2.50000000e-01, 9.01442308e-03,\n",
       "        7.81250000e-03, 5.46875000e-02, 4.68750000e-02, 5.26315789e-02],\n",
       "       [7.73155027e-02, 8.38294209e-02, 3.67184587e-02, 8.70105656e-03,\n",
       "        1.31908017e-01, 1.23206961e-01, 3.07571546e+01, 1.02492770e+03,\n",
       "        8.46389092e-01, 4.78904979e-01, 0.00000000e+00, 7.73155027e-02,\n",
       "        9.87062616e-02, 1.56555773e-02, 2.71186441e-01, 7.99005682e-03,\n",
       "        7.81250000e-03, 1.56250000e-02, 7.81250000e-03, 4.65116279e-02],\n",
       "       [1.51228092e-01, 7.21105873e-02, 1.58011187e-01, 9.65817278e-02,\n",
       "        2.07955252e-01, 1.11373524e-01, 1.23283128e+00, 4.17729621e+00,\n",
       "        9.63322462e-01, 7.27231799e-01, 8.38781852e-02, 1.51228092e-01,\n",
       "        8.89648486e-02, 1.77975528e-02, 2.50000000e-01, 2.01497396e-01,\n",
       "        7.81250000e-03, 5.62500000e-01, 5.54687500e-01, 2.47119078e-01],\n",
       "       [1.35120387e-01, 7.91461005e-02, 1.24656229e-01, 7.87202178e-02,\n",
       "        2.06044929e-01, 1.27324711e-01, 1.10117367e+00, 4.33371315e+00,\n",
       "        9.71955076e-01, 7.83568058e-01, 1.04261402e-01, 1.35120387e-01,\n",
       "        1.06397845e-01, 1.69312169e-02, 2.66666667e-01, 7.12812500e-01,\n",
       "        7.81250000e-03, 5.48437500e+00, 5.47656250e+00, 2.08273894e-01]])"
      ]
     },
     "execution_count": 40,
     "metadata": {},
     "output_type": "execute_result"
    }
   ],
   "source": [
    "X = df.iloc[:, :-1].values\n",
    "X[0:5]"
   ]
  },
  {
   "cell_type": "code",
   "execution_count": 41,
   "metadata": {},
   "outputs": [
    {
     "data": {
      "text/plain": [
       "0    male\n",
       "1    male\n",
       "2    male\n",
       "3    male\n",
       "4    male\n",
       "Name: label, dtype: object"
      ]
     },
     "execution_count": 41,
     "metadata": {},
     "output_type": "execute_result"
    }
   ],
   "source": [
    "y = df.iloc[:, -1]\n",
    "y[0:5]"
   ]
  },
  {
   "cell_type": "markdown",
   "metadata": {},
   "source": [
    "### Label Encoder"
   ]
  },
  {
   "cell_type": "code",
   "execution_count": 42,
   "metadata": {},
   "outputs": [
    {
     "data": {
      "text/plain": [
       "array([1, 1, 1, 1, 1])"
      ]
     },
     "execution_count": 42,
     "metadata": {},
     "output_type": "execute_result"
    }
   ],
   "source": [
    "from sklearn.preprocessing import LabelEncoder\n",
    "\n",
    "encoder = LabelEncoder()\n",
    "y = encoder.fit_transform(y)\n",
    "y[0:5]"
   ]
  },
  {
   "cell_type": "markdown",
   "metadata": {},
   "source": [
    "### Standardization"
   ]
  },
  {
   "cell_type": "code",
   "execution_count": 46,
   "metadata": {},
   "outputs": [
    {
     "data": {
      "text/plain": [
       "array([[-4.04924806,  0.4273553 , -4.22490077, ..., -1.43142165,\n",
       "        -1.41913712, -1.45477229],\n",
       "       [-3.84105325,  0.6116695 , -3.99929342, ..., -1.41810716,\n",
       "        -1.4058184 , -1.01410294],\n",
       "       [-3.46306647,  1.60384791, -4.09585052, ..., -1.42920257,\n",
       "        -1.41691733, -1.06534356],\n",
       "       ...,\n",
       "       [-1.29877326,  2.32272355, -0.05197279, ..., -0.5992661 ,\n",
       "        -0.58671739,  0.17588664],\n",
       "       [-1.2452018 ,  2.012196  , -0.01772849, ..., -0.41286326,\n",
       "        -0.40025537,  1.14916112],\n",
       "       [-0.51474626,  2.14765111, -0.07087873, ..., -1.27608595,\n",
       "        -1.2637521 ,  1.47567886]])"
      ]
     },
     "execution_count": 46,
     "metadata": {},
     "output_type": "execute_result"
    }
   ],
   "source": [
    "from sklearn.preprocessing import StandardScaler\n",
    "\n",
    "scaler = StandardScaler()\n",
    "X = scaler.fit_transform(X)\n",
    "X"
   ]
  },
  {
   "cell_type": "markdown",
   "metadata": {},
   "source": [
    "### Train Test Split"
   ]
  },
  {
   "cell_type": "code",
   "execution_count": 47,
   "metadata": {},
   "outputs": [],
   "source": [
    "from sklearn.model_selection import train_test_split\n",
    "\n",
    "X_train, X_test, y_train, y_test = train_test_split(X, y, test_size = 0.3, random_state = 100)"
   ]
  },
  {
   "cell_type": "code",
   "execution_count": 51,
   "metadata": {},
   "outputs": [
    {
     "name": "stdout",
     "output_type": "stream",
     "text": [
      "X train :(2217, 20) and X test :(951, 20)\n",
      "y train :(2217,) and y test :(951,)\n"
     ]
    }
   ],
   "source": [
    "print('X train :{}'.format(X_train.shape),'and X test :{}'.format(X_test.shape))\n",
    "print('y train :{}'.format(y_train.shape),'and y test :{}'.format(y_test.shape))"
   ]
  },
  {
   "cell_type": "markdown",
   "metadata": {},
   "source": [
    "# Support Vector Machine "
   ]
  },
  {
   "cell_type": "code",
   "execution_count": 52,
   "metadata": {},
   "outputs": [],
   "source": [
    "from sklearn.svm import SVC\n",
    "from sklearn import metrics\n",
    "from sklearn.metrics import classification_report,confusion_matrix"
   ]
  },
  {
   "cell_type": "code",
   "execution_count": 55,
   "metadata": {},
   "outputs": [
    {
     "name": "stdout",
     "output_type": "stream",
     "text": [
      "svc model fitted successfully\n"
     ]
    }
   ],
   "source": [
    "svc_model = SVC()\n",
    "svc_model.fit(X_train, y_train)\n",
    "print('svc model fitted successfully')"
   ]
  },
  {
   "cell_type": "markdown",
   "metadata": {},
   "source": [
    "### Prediction"
   ]
  },
  {
   "cell_type": "code",
   "execution_count": 56,
   "metadata": {},
   "outputs": [
    {
     "name": "stdout",
     "output_type": "stream",
     "text": [
      "Prediction done successfully\n"
     ]
    }
   ],
   "source": [
    "y_pred = svc_model.predict(X_test)\n",
    "print('Prediction done successfully')"
   ]
  },
  {
   "cell_type": "markdown",
   "metadata": {},
   "source": [
    "### Accuracy Score"
   ]
  },
  {
   "cell_type": "code",
   "execution_count": 57,
   "metadata": {},
   "outputs": [
    {
     "data": {
      "text/plain": [
       "0.9737118822292324"
      ]
     },
     "execution_count": 57,
     "metadata": {},
     "output_type": "execute_result"
    }
   ],
   "source": [
    "metrics.accuracy_score(y_pred, y_test)"
   ]
  },
  {
   "cell_type": "code",
   "execution_count": 59,
   "metadata": {},
   "outputs": [
    {
     "data": {
      "text/plain": [
       "0.9869192602616148"
      ]
     },
     "execution_count": 59,
     "metadata": {},
     "output_type": "execute_result"
    }
   ],
   "source": [
    "svc_model.score(X_train, y_train)"
   ]
  },
  {
   "cell_type": "code",
   "execution_count": 61,
   "metadata": {},
   "outputs": [
    {
     "data": {
      "text/plain": [
       "0.9737118822292324"
      ]
     },
     "execution_count": 61,
     "metadata": {},
     "output_type": "execute_result"
    }
   ],
   "source": [
    "svc_model.score(X_test, y_test)"
   ]
  },
  {
   "cell_type": "markdown",
   "metadata": {},
   "source": [
    "### Confusion Matrix"
   ]
  },
  {
   "cell_type": "code",
   "execution_count": 63,
   "metadata": {},
   "outputs": [
    {
     "name": "stdout",
     "output_type": "stream",
     "text": [
      "[[458  12]\n",
      " [ 13 468]]\n"
     ]
    }
   ],
   "source": [
    "print(metrics.confusion_matrix(y_pred, y_test))"
   ]
  },
  {
   "cell_type": "markdown",
   "metadata": {},
   "source": [
    "### Classification Report"
   ]
  },
  {
   "cell_type": "code",
   "execution_count": 64,
   "metadata": {},
   "outputs": [
    {
     "name": "stdout",
     "output_type": "stream",
     "text": [
      "              precision    recall  f1-score   support\n",
      "\n",
      "           0       0.97      0.97      0.97       470\n",
      "           1       0.97      0.97      0.97       481\n",
      "\n",
      "    accuracy                           0.97       951\n",
      "   macro avg       0.97      0.97      0.97       951\n",
      "weighted avg       0.97      0.97      0.97       951\n",
      "\n"
     ]
    }
   ],
   "source": [
    "print(classification_report(y_pred, y_test))"
   ]
  },
  {
   "cell_type": "markdown",
   "metadata": {},
   "source": [
    "## Cross Validation "
   ]
  },
  {
   "cell_type": "markdown",
   "metadata": {},
   "source": [
    "### GridSearch CV"
   ]
  },
  {
   "cell_type": "code",
   "execution_count": 67,
   "metadata": {},
   "outputs": [
    {
     "name": "stdout",
     "output_type": "stream",
     "text": [
      "Fitting 5 folds for each of 16 candidates, totalling 80 fits\n",
      "[CV] END .....................................C=0.1, gamma=1; total time=   0.3s\n",
      "[CV] END .....................................C=0.1, gamma=1; total time=   0.2s\n",
      "[CV] END .....................................C=0.1, gamma=1; total time=   0.2s\n",
      "[CV] END .....................................C=0.1, gamma=1; total time=   0.3s\n",
      "[CV] END .....................................C=0.1, gamma=1; total time=   0.2s\n",
      "[CV] END ...................................C=0.1, gamma=0.1; total time=   0.0s\n",
      "[CV] END ...................................C=0.1, gamma=0.1; total time=   0.1s\n",
      "[CV] END ...................................C=0.1, gamma=0.1; total time=   0.1s\n",
      "[CV] END ...................................C=0.1, gamma=0.1; total time=   0.0s\n",
      "[CV] END ...................................C=0.1, gamma=0.1; total time=   0.1s\n",
      "[CV] END ..................................C=0.1, gamma=0.01; total time=   0.1s\n",
      "[CV] END ..................................C=0.1, gamma=0.01; total time=   0.1s\n",
      "[CV] END ..................................C=0.1, gamma=0.01; total time=   0.1s\n",
      "[CV] END ..................................C=0.1, gamma=0.01; total time=   0.1s\n",
      "[CV] END ..................................C=0.1, gamma=0.01; total time=   0.1s\n",
      "[CV] END .................................C=0.1, gamma=0.001; total time=   0.2s\n",
      "[CV] END .................................C=0.1, gamma=0.001; total time=   0.2s\n",
      "[CV] END .................................C=0.1, gamma=0.001; total time=   0.2s\n",
      "[CV] END .................................C=0.1, gamma=0.001; total time=   0.3s\n",
      "[CV] END .................................C=0.1, gamma=0.001; total time=   0.2s\n",
      "[CV] END .......................................C=1, gamma=1; total time=   0.4s\n",
      "[CV] END .......................................C=1, gamma=1; total time=   0.3s\n",
      "[CV] END .......................................C=1, gamma=1; total time=   0.3s\n",
      "[CV] END .......................................C=1, gamma=1; total time=   0.3s\n",
      "[CV] END .......................................C=1, gamma=1; total time=   0.3s\n",
      "[CV] END .....................................C=1, gamma=0.1; total time=   0.0s\n",
      "[CV] END .....................................C=1, gamma=0.1; total time=   0.0s\n",
      "[CV] END .....................................C=1, gamma=0.1; total time=   0.0s\n",
      "[CV] END .....................................C=1, gamma=0.1; total time=   0.0s\n",
      "[CV] END .....................................C=1, gamma=0.1; total time=   0.0s\n",
      "[CV] END ....................................C=1, gamma=0.01; total time=   0.0s\n",
      "[CV] END ....................................C=1, gamma=0.01; total time=   0.0s\n",
      "[CV] END ....................................C=1, gamma=0.01; total time=   0.0s\n",
      "[CV] END ....................................C=1, gamma=0.01; total time=   0.0s\n",
      "[CV] END ....................................C=1, gamma=0.01; total time=   0.0s\n",
      "[CV] END ...................................C=1, gamma=0.001; total time=   0.2s\n",
      "[CV] END ...................................C=1, gamma=0.001; total time=   0.1s\n",
      "[CV] END ...................................C=1, gamma=0.001; total time=   0.1s\n",
      "[CV] END ...................................C=1, gamma=0.001; total time=   0.1s\n",
      "[CV] END ...................................C=1, gamma=0.001; total time=   0.1s\n",
      "[CV] END ......................................C=10, gamma=1; total time=   0.4s\n",
      "[CV] END ......................................C=10, gamma=1; total time=   0.3s\n",
      "[CV] END ......................................C=10, gamma=1; total time=   0.3s\n",
      "[CV] END ......................................C=10, gamma=1; total time=   0.3s\n",
      "[CV] END ......................................C=10, gamma=1; total time=   0.3s\n",
      "[CV] END ....................................C=10, gamma=0.1; total time=   0.0s\n",
      "[CV] END ....................................C=10, gamma=0.1; total time=   0.0s\n",
      "[CV] END ....................................C=10, gamma=0.1; total time=   0.0s\n",
      "[CV] END ....................................C=10, gamma=0.1; total time=   0.0s\n",
      "[CV] END ....................................C=10, gamma=0.1; total time=   0.0s\n",
      "[CV] END ...................................C=10, gamma=0.01; total time=   0.0s\n",
      "[CV] END ...................................C=10, gamma=0.01; total time=   0.0s\n",
      "[CV] END ...................................C=10, gamma=0.01; total time=   0.0s\n",
      "[CV] END ...................................C=10, gamma=0.01; total time=   0.0s\n",
      "[CV] END ...................................C=10, gamma=0.01; total time=   0.0s\n",
      "[CV] END ..................................C=10, gamma=0.001; total time=   0.0s\n",
      "[CV] END ..................................C=10, gamma=0.001; total time=   0.0s\n",
      "[CV] END ..................................C=10, gamma=0.001; total time=   0.0s\n",
      "[CV] END ..................................C=10, gamma=0.001; total time=   0.0s\n",
      "[CV] END ..................................C=10, gamma=0.001; total time=   0.0s\n",
      "[CV] END .....................................C=100, gamma=1; total time=   0.3s\n",
      "[CV] END .....................................C=100, gamma=1; total time=   0.3s\n",
      "[CV] END .....................................C=100, gamma=1; total time=   0.3s\n",
      "[CV] END .....................................C=100, gamma=1; total time=   0.3s\n",
      "[CV] END .....................................C=100, gamma=1; total time=   0.3s\n",
      "[CV] END ...................................C=100, gamma=0.1; total time=   0.0s\n",
      "[CV] END ...................................C=100, gamma=0.1; total time=   0.0s\n",
      "[CV] END ...................................C=100, gamma=0.1; total time=   0.0s\n",
      "[CV] END ...................................C=100, gamma=0.1; total time=   0.0s\n",
      "[CV] END ...................................C=100, gamma=0.1; total time=   0.0s\n",
      "[CV] END ..................................C=100, gamma=0.01; total time=   0.0s\n",
      "[CV] END ..................................C=100, gamma=0.01; total time=   0.0s\n",
      "[CV] END ..................................C=100, gamma=0.01; total time=   0.0s\n",
      "[CV] END ..................................C=100, gamma=0.01; total time=   0.0s\n",
      "[CV] END ..................................C=100, gamma=0.01; total time=   0.0s\n",
      "[CV] END .................................C=100, gamma=0.001; total time=   0.0s\n",
      "[CV] END .................................C=100, gamma=0.001; total time=   0.0s\n",
      "[CV] END .................................C=100, gamma=0.001; total time=   0.0s\n",
      "[CV] END .................................C=100, gamma=0.001; total time=   0.0s\n",
      "[CV] END .................................C=100, gamma=0.001; total time=   0.0s\n"
     ]
    },
    {
     "data": {
      "text/plain": [
       "GridSearchCV(estimator=SVC(),\n",
       "             param_grid={'C': [0.1, 1, 10, 100],\n",
       "                         'gamma': [1, 0.1, 0.01, 0.001]},\n",
       "             verbose=2)"
      ]
     },
     "execution_count": 67,
     "metadata": {},
     "output_type": "execute_result"
    }
   ],
   "source": [
    "from sklearn.model_selection import GridSearchCV\n",
    "\n",
    "param_grid = {'C' : [0.1, 1, 10, 100], 'gamma' : [1, 0.1, 0.01, 0.001]}\n",
    "grid = GridSearchCV(SVC(), param_grid, refit = True, verbose = 2)\n",
    "grid.fit(X_train, y_train)"
   ]
  },
  {
   "cell_type": "markdown",
   "metadata": {},
   "source": [
    "### Print Best paraameters"
   ]
  },
  {
   "cell_type": "code",
   "execution_count": 68,
   "metadata": {},
   "outputs": [
    {
     "name": "stdout",
     "output_type": "stream",
     "text": [
      "{'C': 1, 'gamma': 0.1}\n"
     ]
    }
   ],
   "source": [
    "best_params = grid.best_params_\n",
    "print(best_params)"
   ]
  },
  {
   "cell_type": "markdown",
   "metadata": {},
   "source": [
    "### Predictions"
   ]
  },
  {
   "cell_type": "code",
   "execution_count": 70,
   "metadata": {},
   "outputs": [],
   "source": [
    "grid_prediction = grid.predict(X_test)"
   ]
  },
  {
   "cell_type": "markdown",
   "metadata": {},
   "source": [
    "### Accuracy score"
   ]
  },
  {
   "cell_type": "code",
   "execution_count": 71,
   "metadata": {},
   "outputs": [
    {
     "name": "stdout",
     "output_type": "stream",
     "text": [
      "Accuracy Score\n",
      "0.9747634069400631\n"
     ]
    }
   ],
   "source": [
    "print('Accuracy Score')\n",
    "print(metrics.accuracy_score(grid_prediction, y_test))"
   ]
  },
  {
   "cell_type": "markdown",
   "metadata": {},
   "source": [
    "### Classification Report"
   ]
  },
  {
   "cell_type": "code",
   "execution_count": 73,
   "metadata": {},
   "outputs": [
    {
     "name": "stdout",
     "output_type": "stream",
     "text": [
      "              precision    recall  f1-score   support\n",
      "\n",
      "           0       0.97      0.97      0.97       471\n",
      "           1       0.97      0.97      0.97       480\n",
      "\n",
      "    accuracy                           0.97       951\n",
      "   macro avg       0.97      0.97      0.97       951\n",
      "weighted avg       0.97      0.97      0.97       951\n",
      "\n"
     ]
    }
   ],
   "source": [
    "print(classification_report(grid_prediction, y_test))"
   ]
  },
  {
   "cell_type": "markdown",
   "metadata": {},
   "source": [
    "# Naïve Bayce GaussianNB"
   ]
  },
  {
   "cell_type": "code",
   "execution_count": 96,
   "metadata": {},
   "outputs": [
    {
     "name": "stdout",
     "output_type": "stream",
     "text": [
      "GaussianNB model fited succussfuly\n"
     ]
    }
   ],
   "source": [
    "from sklearn.naive_bayes import GaussianNB\n",
    "\n",
    "GNB = GaussianNB()\n",
    "GNB.fit(X_train, y_train)\n",
    "print('GaussianNB model fited succussfuly')"
   ]
  },
  {
   "cell_type": "markdown",
   "metadata": {},
   "source": [
    "### Prediction"
   ]
  },
  {
   "cell_type": "code",
   "execution_count": 97,
   "metadata": {},
   "outputs": [
    {
     "name": "stdout",
     "output_type": "stream",
     "text": [
      "Prediction done succussfully\n",
      "[1 0 1 0 0 0 0 0 1 1 1 0 1 0 0 1 0 1 1 0 1 0 0 0 0 1 1 1 0 1 1 0 0 0 0 1 0\n",
      " 0 1 1 0 1 1 1 0 0 1 0 0 1 1 0 0 0 0 1 0 1 1 1 1 0 1 0 0 0 1 1 0 1 0 1 1 1\n",
      " 1 1 0 0 1 0 0 1 1 0 1 0 1 0 0 0 0 1 1 0 1 1 1 1 0 0 0 0 1 1 0 1 0 1 0 0 0\n",
      " 0 0 1 1 1 1 1 1 1 0 1 1 1 0 1 1 1 0 0 0 0 0 0 0 0 0 1 1 1 0 1 0 0 0 1 1 1\n",
      " 0 1 0 0 1 1 0 0 0 0 1 0 1 1 1 0 0 1 0 1 0 0 1 0 1 1 1 1 1 0 1 0 0 0 0 0 0\n",
      " 1 0 0 0 0 0 1 0 0 0 1 1 0 1 0 1 0 0 1 1 1 1 1 0 0 0 0 0 0 1 1 0 1 0 0 1 1\n",
      " 0 0 1 0 0 1 1 1 1 1 1 1 0 0 1 0 0 0 1 0 1 0 0 1 1 0 0 1 1 0 1 0 0 0 0 0 0\n",
      " 1 1 1 0 1 1 0 1 1 1 0 1 1 0 0 0 0 1 1 0 0 1 0 0 0 1 0 1 0 1 0 0 1 0 1 1 0\n",
      " 1 1 0 1 1 0 0 0 1 1 0 1 0 0 1 1 0 1 0 0 1 1 0 0 0 1 1 1 0 1 1 1 0 1 1 1 1\n",
      " 0 1 0 0 0 1 1 0 0 1 1 0 1 0 0 1 0 1 1 0 1 0 1 1 0 1 0 0 1 0 0 0 1 1 0 0 0\n",
      " 0 0 0 0 1 0 1 0 0 0 0 1 1 0 0 1 1 1 0 1 1 0 1 0 0 1 0 1 1 1 0 0 1 1 0 1 0\n",
      " 0 0 0 1 1 1 1 1 0 1 0 0 0 0 0 0 0 1 0 0 0 1 0 0 1 1 1 0 0 0 0 1 1 1 1 1 1\n",
      " 0 1 1 1 0 0 1 0 1 1 0 0 0 1 1 1 1 0 0 0 1 0 0 1 0 1 0 1 1 0 0 0 1 0 1 0 1\n",
      " 1 1 1 0 1 1 0 0 0 0 1 0 1 1 1 0 1 0 0 1 0 0 0 1 1 0 0 1 1 0 1 1 1 1 1 1 1\n",
      " 0 1 1 1 1 1 0 0 0 0 1 0 0 1 1 0 0 1 0 0 1 1 1 1 0 0 1 1 0 0 1 0 1 0 0 1 1\n",
      " 0 1 1 1 0 1 1 0 1 1 1 1 0 1 1 0 1 0 0 1 0 1 1 0 0 1 1 0 1 0 0 0 0 1 0 0 1\n",
      " 1 0 0 0 1 1 0 1 0 1 0 0 1 0 0 1 1 1 1 1 0 1 1 0 0 1 0 0 0 0 1 1 1 1 1 0 1\n",
      " 0 1 0 1 1 1 0 1 1 1 0 1 1 0 0 0 0 1 0 0 1 0 1 0 0 0 1 0 1 0 1 0 1 1 1 0 1\n",
      " 1 0 0 1 0 1 0 1 1 0 1 0 0 1 1 0 1 1 1 1 0 1 1 0 0 1 1 1 0 1 0 0 0 1 1 1 1\n",
      " 1 1 0 1 0 0 0 0 1 1 1 1 0 1 1 0 1 1 1 1 1 1 0 1 0 1 0 1 1 0 1 1 0 1 1 0 0\n",
      " 0 1 1 1 1 0 0 1 0 1 1 0 0 1 0 0 1 0 0 0 0 0 1 1 1 1 1 0 0 1 1 0 1 1 0 0 0\n",
      " 0 1 1 1 0 0 0 0 0 1 0 0 1 1 1 1 0 0 1 1 1 1 0 1 1 1 1 1 0 1 1 0 0 0 1 0 1\n",
      " 1 1 1 0 1 1 0 0 1 0 1 0 1 0 1 1 0 1 1 1 0 0 0 1 1 0 1 1 0 1 1 1 0 1 1 1 1\n",
      " 0 1 0 1 1 0 0 0 1 1 1 0 1 0 1 0 0 1 1 1 1 0 1 1 1 1 0 1 0 1 1 1 0 1 1 0 1\n",
      " 1 1 0 0 0 1 0 1 0 0 0 1 0 0 0 0 1 1 1 1 1 0 1 0 0 1 0 0 0 1 0 1 0 0 1 1 1\n",
      " 0 1 0 0 1 0 1 0 0 0 0 1 0 0 1 1 0 0 0 0 1 0 1 0 0 0]\n"
     ]
    }
   ],
   "source": [
    "GNB_pred = GNB.predict(X_test)\n",
    "print(\"Prediction done succussfully\")\n",
    "print(GNB_pred)"
   ]
  },
  {
   "cell_type": "code",
   "execution_count": 92,
   "metadata": {},
   "outputs": [
    {
     "name": "stdout",
     "output_type": "stream",
     "text": [
      "     0\n",
      "0     \n",
      "0  465\n",
      "1  486\n"
     ]
    }
   ],
   "source": [
    "print(pd.DataFrame(GNB_pred).groupby(0).agg({0:np.size}))"
   ]
  },
  {
   "cell_type": "code",
   "execution_count": 93,
   "metadata": {},
   "outputs": [
    {
     "name": "stdout",
     "output_type": "stream",
     "text": [
      "Accuracy Score\n",
      "0.8696109358569927\n"
     ]
    }
   ],
   "source": [
    "print('Accuracy Score')\n",
    "print(metrics.accuracy_score(y_test, GBN_pred))"
   ]
  },
  {
   "cell_type": "code",
   "execution_count": 94,
   "metadata": {},
   "outputs": [
    {
     "name": "stdout",
     "output_type": "stream",
     "text": [
      "Classification Report\n",
      "              precision    recall  f1-score   support\n",
      "\n",
      "           0       0.87      0.86      0.87       471\n",
      "           1       0.87      0.88      0.87       480\n",
      "\n",
      "    accuracy                           0.87       951\n",
      "   macro avg       0.87      0.87      0.87       951\n",
      "weighted avg       0.87      0.87      0.87       951\n",
      "\n"
     ]
    }
   ],
   "source": [
    "print('Classification Report')\n",
    "print(classification_report(y_test, GBN_pred))"
   ]
  },
  {
   "cell_type": "code",
   "execution_count": 86,
   "metadata": {},
   "outputs": [
    {
     "name": "stdout",
     "output_type": "stream",
     "text": [
      "Confusion Matrix\n",
      "[[406  65]\n",
      " [ 59 421]]\n"
     ]
    }
   ],
   "source": [
    "print('Confusion Matrix')\n",
    "print(confusion_matrix(y_test, GBN_pred))"
   ]
  },
  {
   "cell_type": "markdown",
   "metadata": {},
   "source": [
    "### Apply Grid Search CV  for Naïve Bayce "
   ]
  },
  {
   "cell_type": "code",
   "execution_count": 102,
   "metadata": {},
   "outputs": [
    {
     "name": "stdout",
     "output_type": "stream",
     "text": [
      "Fitting 5 folds for each of 1 candidates, totalling 5 fits\n",
      "[CV] END .................................................... total time=   0.0s\n",
      "[CV] END .................................................... total time=   0.0s\n",
      "[CV] END .................................................... total time=   0.0s\n",
      "[CV] END .................................................... total time=   0.0s\n",
      "[CV] END .................................................... total time=   0.0s\n"
     ]
    },
    {
     "data": {
      "text/plain": [
       "GridSearchCV(estimator=GaussianNB(), param_grid={}, verbose=2)"
      ]
     },
     "execution_count": 102,
     "metadata": {},
     "output_type": "execute_result"
    }
   ],
   "source": [
    "from sklearn.model_selection import GridSearchCV\n",
    "param_grid = {} \n",
    "grid = GridSearchCV(GaussianNB(),param_grid,refit=True,verbose=2)\n",
    "grid.fit(X_train,y_train)\n"
   ]
  },
  {
   "cell_type": "markdown",
   "metadata": {},
   "source": [
    "### Best Parameters"
   ]
  },
  {
   "cell_type": "code",
   "execution_count": 103,
   "metadata": {},
   "outputs": [
    {
     "name": "stdout",
     "output_type": "stream",
     "text": [
      "{}\n"
     ]
    }
   ],
   "source": [
    "best_params = grid.best_params_\n",
    "print(best_params)"
   ]
  },
  {
   "cell_type": "markdown",
   "metadata": {},
   "source": [
    "### Prediction"
   ]
  },
  {
   "cell_type": "code",
   "execution_count": 105,
   "metadata": {},
   "outputs": [],
   "source": [
    "grid_prediction = grid.predict(X_test)"
   ]
  },
  {
   "cell_type": "markdown",
   "metadata": {},
   "source": [
    "### Accuracy Score"
   ]
  },
  {
   "cell_type": "code",
   "execution_count": 108,
   "metadata": {},
   "outputs": [
    {
     "name": "stdout",
     "output_type": "stream",
     "text": [
      "Accuracy Score\n",
      "0.8696109358569927\n"
     ]
    }
   ],
   "source": [
    "print('Accuracy Score')\n",
    "print(metrics.accuracy_score(y_test, grid_prediction))"
   ]
  },
  {
   "cell_type": "markdown",
   "metadata": {},
   "source": [
    "### Classification Report"
   ]
  },
  {
   "cell_type": "code",
   "execution_count": 109,
   "metadata": {},
   "outputs": [
    {
     "name": "stdout",
     "output_type": "stream",
     "text": [
      "Classification Report\n",
      "              precision    recall  f1-score   support\n",
      "\n",
      "           0       0.87      0.86      0.87       471\n",
      "           1       0.87      0.88      0.87       480\n",
      "\n",
      "    accuracy                           0.87       951\n",
      "   macro avg       0.87      0.87      0.87       951\n",
      "weighted avg       0.87      0.87      0.87       951\n",
      "\n"
     ]
    }
   ],
   "source": [
    "print('Classification Report')\n",
    "print(metrics.classification_report(y_test, grid_prediction))"
   ]
  },
  {
   "cell_type": "markdown",
   "metadata": {},
   "source": [
    "### Confusion Martix"
   ]
  },
  {
   "cell_type": "code",
   "execution_count": 110,
   "metadata": {},
   "outputs": [
    {
     "name": "stdout",
     "output_type": "stream",
     "text": [
      "Confusion Matrix\n",
      "[[406  65]\n",
      " [ 59 421]]\n"
     ]
    }
   ],
   "source": [
    "print('Confusion Matrix')\n",
    "print(metrics.confusion_matrix(y_test, grid_prediction))"
   ]
  },
  {
   "cell_type": "code",
   "execution_count": null,
   "metadata": {},
   "outputs": [],
   "source": []
  }
 ],
 "metadata": {
  "kernelspec": {
   "display_name": "Python 3",
   "language": "python",
   "name": "python3"
  },
  "language_info": {
   "codemirror_mode": {
    "name": "ipython",
    "version": 3
   },
   "file_extension": ".py",
   "mimetype": "text/x-python",
   "name": "python",
   "nbconvert_exporter": "python",
   "pygments_lexer": "ipython3",
   "version": "3.8.5"
  }
 },
 "nbformat": 4,
 "nbformat_minor": 4
}
